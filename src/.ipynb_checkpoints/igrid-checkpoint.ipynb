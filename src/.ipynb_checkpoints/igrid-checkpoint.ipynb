{
 "cells": [
  {
   "cell_type": "code",
   "execution_count": 7,
   "metadata": {},
   "outputs": [],
   "source": [
    "# Built-in modules\n",
    "from dataclasses import dataclass\n",
    "from typing import List\n",
    "\n",
    "# Third-party modules\n",
    "import matplotlib.pyplot as plt\n",
    "import numpy as np\n",
    "\n",
    "# Local modules\n",
    "from post.plotgrid import setplot_props, ifig\n",
    "from pre.makegrid import seg_cells, cells_distro, input_point"
   ]
  },
  {
   "cell_type": "markdown",
   "metadata": {},
   "source": [
    "## Set the bottom 2D section of the block grid"
   ]
  },
  {
   "cell_type": "markdown",
   "metadata": {},
   "source": [
    "### Controls the direction of initial 'straight' lines in the 2D section.\n",
    "\n",
    "If straight lines goes South-North: IDIR=0\n",
    "<br>\n",
    "If straight lines goes West-East: IDIR=1"
   ]
  },
  {
   "cell_type": "code",
   "execution_count": 2,
   "metadata": {},
   "outputs": [
    {
     "name": "stdin",
     "output_type": "stream",
     "text": [
      "IDIR:  1\n"
     ]
    }
   ],
   "source": [
    "while True:\n",
    "        idir = input(\"IDIR: \")\n",
    "        if idir == \"1\" or idir == \"0\":\n",
    "            idir = int(idir)\n",
    "            break\n",
    "        else:\n",
    "            print(\"IDIR takes '0' if straight lines goes South-North, or '1' if straight lines goes West-East.\")"
   ]
  },
  {
   "cell_type": "markdown",
   "metadata": {},
   "source": [
    "### Set the number of cells (Control Volumes) in I and J directions"
   ]
  },
  {
   "cell_type": "code",
   "execution_count": 3,
   "metadata": {},
   "outputs": [
    {
     "name": "stdin",
     "output_type": "stream",
     "text": [
      "NICV:  100\n",
      "NJCV:  20\n"
     ]
    }
   ],
   "source": [
    "# Number of cells in I and J direction\n",
    "while True:\n",
    "    try:\n",
    "        nicv = int(input(\"NICV: \"))\n",
    "        njcv = int(input(\"NJCV: \"))\n",
    "        if nicv > 0 and njcv > 0:\n",
    "            break\n",
    "        else:\n",
    "            print(\"Only positive integers values are valid. Try again.\")\n",
    "    except:\n",
    "        print(\"Only positive integers values are valid. Try again.\")\n"
   ]
  },
  {
   "cell_type": "markdown",
   "metadata": {},
   "source": [
    "### Define the segments of all edges. (South, North, West, East) "
   ]
  },
  {
   "cell_type": "code",
   "execution_count": 4,
   "metadata": {},
   "outputs": [],
   "source": [
    "# Define Point, Segment & Edge as dataclasses\n",
    "\n",
    "# A point is a set of 3 floats\n",
    "@dataclass\n",
    "class Point:\n",
    "    x: float\n",
    "    y: float\n",
    "    z: float = 0.0\n",
    "\n",
    "# A segment consists of a start and end Point\n",
    "@dataclass\n",
    "class Segment:\n",
    "    start: Point\n",
    "    end: Point\n",
    "    ncell: int\n",
    "        \n",
    "# An Edge is a list of segments\n",
    "@dataclass\n",
    "class Edge:\n",
    "    name: str\n",
    "    nlines: int\n",
    "    segments: List[Segment]"
   ]
  },
  {
   "cell_type": "code",
   "execution_count": 5,
   "metadata": {},
   "outputs": [
    {
     "name": "stdin",
     "output_type": "stream",
     "text": [
      "Are all cells of these 2D segments uniform? y/n y\n"
     ]
    }
   ],
   "source": [
    "# Define edges names (2D bottom section)\n",
    "edges = (\"South\", \"North\", \"West\", \"East\")\n",
    "\n",
    "# Ask user if all segments have uniform cell distribution\n",
    "while True:\n",
    "    uniform_cells = input(\"Are all cells of these 2D segments uniform? y/n\")\n",
    "    if uniform_cells == \"y\" or uniform_cells == \"n\":\n",
    "        break"
   ]
  },
  {
   "cell_type": "code",
   "execution_count": 6,
   "metadata": {},
   "outputs": [
    {
     "data": {
      "image/png": "[encoded data removed]",
      "text/plain": [
       "<Figure size 432x288 with 1 Axes>"
      ]
     },
     "metadata": {},
     "output_type": "display_data"
    },
    {
     "name": "stdout",
     "output_type": "stream",
     "text": [
      "20\n"
     ]
    },
    {
     "data": {
      "image/png": "[encoded data removed]",
      "text/plain": [
       "<Figure size 432x288 with 1 Axes>"
      ]
     },
     "metadata": {
      "needs_background": "light"
     },
     "output_type": "display_data"
    }
   ],
   "source": [
    "# Loop through edges\n",
    "for edge in edges:\n",
    "    \n",
    "    # Number of segments needed to describe this edge.\n",
    "    print(f\"Number of {edge} edge segments:\")\n",
    "    while True:\n",
    "        try:\n",
    "            nlines = int(input(\"NLINES: \"))\n",
    "            if nlines > 0:\n",
    "                break\n",
    "            else:\n",
    "                print(\"Only positive integers values are valid. Try again\")\n",
    "        except:\n",
    "            print(\"Only postive integers values are valid. Try again\")\n",
    "    \n",
    "    # Initialize this edge segments list\n",
    "    segments = []\n",
    "    \n",
    "    # Loop through all segments of this edge    \n",
    "    for seg in range(0,nlines):\n",
    "        \n",
    "        # Coordinates (x,y) of the first point in this segment of this edge. (South-West point if first (or only) segment)\n",
    "        print(f\"Coordinates (x,y) of first point in segment {seg + 1} of {edge} edge\")\n",
    "        # Ask user for point and plot it.\n",
    "        if nlines == 1:\n",
    "            if edge == \"West\":\n",
    "                x0, y0 = south.segments[0].start.x, south.segments[0].start.y\n",
    "            elif edge == \"East\":\n",
    "                x0, y0 = north.segments[0].end.x, north.segments[0].end.y\n",
    "            else:\n",
    "                x0, y0 = input_point()\n",
    "        else:\n",
    "            x0, y0 = input_point()\n",
    "            \n",
    "        # Label the point if known        \n",
    "        if nlines == 1:\n",
    "            if edge == \"South\":\n",
    "                plt.text(x0, y0, \"SW\", horizontalalignment=\"right\")\n",
    "            elif edge == \"North\":\n",
    "                plt.text(x0, y0, \"NW\", horizontalalignment=\"right\")\n",
    "            \n",
    "        # Call function to set some plot properties.\n",
    "        # Set xlabel, ylabel, title.        \n",
    "        setplot_props(\"x\", \"y\", \"Bottom 2D section of block grid\")\n",
    "        # Display figure\n",
    "        ifig()\n",
    "       \n",
    "        # Coordinates (x,y) of this segment endpoint. (South-East point if first (or only) segment)\n",
    "        print(f\"Coordinates (x,y) of endpoint in segment {seg + 1} of {edge} edge\")\n",
    "        # Ask user for point and plot it.\n",
    "        if nlines == 1:\n",
    "            if edge == \"West\":\n",
    "                x1, y1 = north.segments[0].start.x, north.segments[0].start.y\n",
    "            elif edge == \"East\":\n",
    "                x1, y1 = north.segments[0].end.x, north.segments[0].end.y\n",
    "            else:\n",
    "                x1, y1 = input_point()\n",
    "        else:\n",
    "            x1, y1 = input_point()\n",
    "            \n",
    "        # Label this point if known\n",
    "        if nlines == 1:\n",
    "            if edge == \"South\":\n",
    "                plt.text(x1, y1, \"SE\", horizontalalignment=\"left\")\n",
    "            elif edge == \"North\":\n",
    "                plt.text(x1, y1, \"NE\", horizontalalignment=\"left\")\n",
    "            \n",
    "        # Plot the segment as a line\n",
    "        if seg == nlines-1:\n",
    "            plt.plot([x0, x1], [y0, y1], 'b')\n",
    "        \n",
    "        # Update figure\n",
    "        ifig()\n",
    "\n",
    "        # Distribution of cells along this segment (DX1 and EXP):\n",
    "        # DX1 (if non-zero) is the size of the first cell in this segment.\n",
    "        # The rest of the cells will be expanded or contracted with a factor k,\n",
    "        # computed so that the NSEG cells fill the value.\n",
    "        if uniform_cells == \"n\":\n",
    "            dx1, exp = cells_distro()\n",
    "        else:\n",
    "            dx1, exp = 0, 0\n",
    "            \n",
    "        # Number of cells of this segment\n",
    "        # If this edge has only one segment, nseg is equal to nicv or njcv\n",
    "        ncell = seg_cells(nlines, idir, nicv, njcv, edge)\n",
    "        print(ncell)\n",
    "            \n",
    "        # Instantiate this segment\n",
    "        seg = Segment(Point(x0,y0), Point(x1,y1), ncell)\n",
    "        # Append it to this edge segments list\n",
    "        segments.append(seg)\n",
    "        \n",
    "    # Instantiate this edge\n",
    "    if edge == \"South\":\n",
    "        south = Edge(edge, nlines, segments)\n",
    "    elif edge == \"North\":\n",
    "        north = Edge(edge, nlines, segments)\n",
    "    elif edge == \"West\":\n",
    "        west = Edge(edge, nlines, segments)\n",
    "    elif edge == \"East\":\n",
    "        east = Edge(edge, nlines, segments)\n",
    "        "
   ]
  },
  {
   "cell_type": "code",
   "execution_count": null,
   "metadata": {},
   "outputs": [],
   "source": [
    "print(east)"
   ]
  }
 ],
 "metadata": {
  "kernelspec": {
   "display_name": ".venv",
   "language": "python",
   "name": ".venv"
  },
  "language_info": {
   "codemirror_mode": {
    "name": "ipython",
    "version": 3
   },
   "file_extension": ".py",
   "mimetype": "text/x-python",
   "name": "python",
   "nbconvert_exporter": "python",
   "pygments_lexer": "ipython3",
   "version": "3.8.10"
  }
 },
 "nbformat": 4,
 "nbformat_minor": 4
}
