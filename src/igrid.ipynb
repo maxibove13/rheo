{
 "cells": [
  {
   "cell_type": "markdown",
   "metadata": {},
   "source": [
    "## Set the bottom 2D section (the surface) of the block grid"
   ]
  },
  {
   "cell_type": "markdown",
   "metadata": {},
   "source": [
    "### Set the total number of cells (Control Volumes) in I and J directions"
   ]
  },
  {
   "cell_type": "code",
   "execution_count": null,
   "metadata": {},
   "outputs": [],
   "source": [
    "# Number of cells in I and J direction\n",
    "while True:\n",
    "    try:\n",
    "        NICV = int(input(\"NICV: \"))\n",
    "        NJCV = int(input(\"NJCV: \"))\n",
    "        if NICV > 0 and NJCV > 0:\n",
    "            break\n",
    "        else:\n",
    "            print(\"Only positive integers values are valid. Try again.\")\n",
    "    except:\n",
    "        print(\"Only positive integers values are valid. Try again.\")\n"
   ]
  },
  {
   "cell_type": "markdown",
   "metadata": {},
   "source": [
    "### Define the edges. (South, North, West, East) "
   ]
  },
  {
   "cell_type": "code",
   "execution_count": null,
   "metadata": {},
   "outputs": [],
   "source": [
    "# Define edges names (2D bottom section)\n",
    "edges = (\"South\", \"North\", \"West\", \"East\")"
   ]
  },
  {
   "cell_type": "markdown",
   "metadata": {},
   "source": [
    "### Generate the 2D section interactively"
   ]
  },
  {
   "cell_type": "code",
   "execution_count": null,
   "metadata": {},
   "outputs": [],
   "source": [
    "# Third-party modules\n",
    "from matplotlib import pyplot as plt\n",
    "\n",
    "# Local modules\n",
    "from pre.makegrid import makesurf\n",
    "\n",
    "# Generate the surface of a grid block interactively\n",
    "# uniform cell distribution in all edges by default (uniform_cells=True0\n",
    "# Straight lines goes West-East by default (IDIR=1)\n",
    "makesurf(edges, NICV, NJCV, uniform_cells=True, IDIR=1)\n",
    "\n",
    "# Prevent duplicate figures.\n",
    "# By default Jupyter displays the last function return. We've already display the figure using IPython.display through ifig() function)\n",
    "plt.close()"
   ]
  }
 ],
 "metadata": {
  "kernelspec": {
   "display_name": ".venv",
   "language": "python",
   "name": ".venv"
  },
  "language_info": {
   "codemirror_mode": {
    "name": "ipython",
    "version": 3
   },
   "file_extension": ".py",
   "mimetype": "text/x-python",
   "name": "python",
   "nbconvert_exporter": "python",
   "pygments_lexer": "ipython3",
   "version": "3.8.10"
  }
 },
 "nbformat": 4,
 "nbformat_minor": 4
}
