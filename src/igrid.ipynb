{
 "cells": [
  {
   "cell_type": "markdown",
   "metadata": {},
   "source": [
    "## Name all blocks of your grid"
   ]
  },
  {
   "cell_type": "code",
   "execution_count": 1,
   "metadata": {},
   "outputs": [
    {
     "name": "stdin",
     "output_type": "stream",
     "text": [
      "Enter the next block name or 'ok' to finish. duct1A\n",
      "Enter the next block name or 'ok' to finish. duct1B\n",
      "Enter the next block name or 'ok' to finish. duct1C\n",
      "Enter the next block name or 'ok' to finish. ok\n"
     ]
    },
    {
     "name": "stdout",
     "output_type": "stream",
     "text": [
      "\n",
      "\n",
      "Blocks: ['duct1A', 'duct1B', 'duct1C']\n",
      "n_blocks: 3\n"
     ]
    }
   ],
   "source": [
    "blocks_names = []\n",
    "\n",
    "while True:\n",
    "    block_name = input(\"Enter the next block name or 'ok' to finish.\")\n",
    "    if len(block_name) > 6:\n",
    "        print(\"Only 6 character strings are accepted. Try again.\")\n",
    "    elif block_name == \"ok\":\n",
    "        break\n",
    "    elif block_name in blocks_names:\n",
    "        print(\"This block name is already in the list of blocks\")\n",
    "        print(f\"Blocks: {blocks_names}\")\n",
    "    else:\n",
    "        blocks_names.append(block_name)\n",
    "        \n",
    "n_blocks = len(blocks_names)\n",
    "\n",
    "print(\"\\n\")\n",
    "print(f\"Blocks: {blocks_names}\")\n",
    "print(f\"n_blocks: {n_blocks}\")"
   ]
  },
  {
   "cell_type": "markdown",
   "metadata": {},
   "source": [
    "### Generate a block 2D section interactively"
   ]
  },
  {
   "cell_type": "code",
   "execution_count": 2,
   "metadata": {},
   "outputs": [
    {
     "data": {
      "image/png": "[encoded data removed]",
      "text/plain": [
       "<Figure size 1008x720 with 1 Axes>"
      ]
     },
     "metadata": {},
     "output_type": "display_data"
    },
    {
     "name": "stdout",
     "output_type": "stream",
     "text": [
      "Does it has an offset?\n",
      "\n",
      "\n"
     ]
    },
    {
     "name": "stdin",
     "output_type": "stream",
     "text": [
      "Origin offset, x:  0\n",
      "Origin offset, y:  0\n",
      "Origin offset, z:  0\n"
     ]
    },
    {
     "name": "stdout",
     "output_type": "stream",
     "text": [
      "\n",
      "\n",
      "1 blocks remaining to be defined.\n"
     ]
    },
    {
     "name": "stdin",
     "output_type": "stream",
     "text": [
      "Block name:  duct1C\n",
      "Is this block section identical to an already defined block? y/n y\n",
      "Which one? duct1B\n"
     ]
    },
    {
     "name": "stdout",
     "output_type": "stream",
     "text": [
      "Does it has an offset?\n",
      "\n",
      "\n"
     ]
    },
    {
     "name": "stdin",
     "output_type": "stream",
     "text": [
      "Origin offset, x:  0\n",
      "Origin offset, y:  0\n",
      "Origin offset, z:  0\n"
     ]
    },
    {
     "name": "stdout",
     "output_type": "stream",
     "text": [
      "All blocks are defined, closing loop.\n",
      "Blocks defined:\n",
      "duct1A\n",
      "duct1B\n",
      "duct1C\n"
     ]
    }
   ],
   "source": [
    "# Third-party modules\n",
    "from matplotlib import pyplot as plt\n",
    "\n",
    "# Local modules\n",
    "from pre.makegrid import makesurf\n",
    "\n",
    "# Initialize a dict of all grid blocks\n",
    "blocks = dict()\n",
    "\n",
    "# Loop until all stated blocks are defined\n",
    "while True:\n",
    "    # State your block name\n",
    "    while True:\n",
    "        block_name = input(\"Block name: \")\n",
    "        if block_name not in blocks_names:\n",
    "            print(\"This block is not in your stated grid. Try again.\")\n",
    "        else:\n",
    "            break\n",
    "            \n",
    "    # Is this block section identical to an already defined block? Which one?\n",
    "    if blocks == {}:\n",
    "        simil = False\n",
    "    else:\n",
    "        while True:\n",
    "            simil = input(\"Is this block section identical to an already defined block? y/n\")\n",
    "            if simil == 'y':\n",
    "                simil_block = input(\"Which one?\")\n",
    "                if simil_block not in blocks_names:\n",
    "                    print(\"This block is not in your stated grid. Try again.\")\n",
    "                else:\n",
    "                    simil = True\n",
    "                    break\n",
    "            else:\n",
    "                simil = False\n",
    "                break\n",
    "\n",
    "    # If this block is identcial to another one skip this part\n",
    "    if not simil:\n",
    "        # Set the total number of cells (Control Volumes) in I and J directions\n",
    "        # Number of cells in I and J direction\n",
    "        while True:\n",
    "            try:\n",
    "                NICV = int(input(\"NICV: \"))\n",
    "                NJCV = int(input(\"NJCV: \"))\n",
    "                if NICV > 0 and NJCV > 0:\n",
    "                    break\n",
    "                else:\n",
    "                    print(\"Only positive integers values are valid. Try again.\")\n",
    "            except:\n",
    "                print(\"Only positive integers values are valid. Try again.\")\n",
    "\n",
    "        # Define edges names (2D bottom section)\n",
    "        edges = (\"South\", \"North\", \"West\", \"East\")\n",
    "\n",
    "\n",
    "\n",
    "        # Generate the surface of a grid block interactively\n",
    "        # uniform cell distribution in all edges by default (uniform_cells=True0\n",
    "        # Straight lines goes West-East by default (IDIR=1)\n",
    "        # Return the block as a value of blocks dict    \n",
    "        blocks[block_name] = makesurf(edges, NICV, NJCV, block_name, uniform_cells=True, IDIR=1)\n",
    "\n",
    "        # Prevent duplicate figures.\n",
    "        # By default Jupyter displays the last function return. We've already display the figure using IPython.display through ifig() function)\n",
    "        plt.close()\n",
    "        \n",
    "    else:\n",
    "        # This block is equal to the simil block stated before        \n",
    "        blocks[block_name] = blocks[simil_block]\n",
    "\n",
    "    # Does it has an offset?\n",
    "    print(\"Does it has an offset?\")\n",
    "    print(\"\\n\")\n",
    "    x_off = input(\"Origin offset, x: \")\n",
    "    y_off = input(\"Origin offset, y: \")\n",
    "    z_off = input(\"Origin offset, z: \")\n",
    "    offset = (x_off, y_off, z_off)\n",
    "\n",
    "    # Check if all blocks are defined\n",
    "    if list(blocks.keys()) == blocks_names:\n",
    "        print(\"All blocks are defined, closing loop.\")\n",
    "        break\n",
    "    else:\n",
    "        print(\"\\n\")\n",
    "        print(f\"{len(blocks_names) - len(blocks.keys())} blocks remaining to be defined.\")\n",
    "        \n",
    "print(\"Blocks defined:\")\n",
    "for block in blocks.keys():\n",
    "    print(block)"
   ]
  }
 ],
 "metadata": {
  "kernelspec": {
   "display_name": ".venv",
   "language": "python",
   "name": ".venv"
  },
  "language_info": {
   "codemirror_mode": {
    "name": "ipython",
    "version": 3
   },
   "file_extension": ".py",
   "mimetype": "text/x-python",
   "name": "python",
   "nbconvert_exporter": "python",
   "pygments_lexer": "ipython3",
   "version": "3.8.10"
  }
 },
 "nbformat": 4,
 "nbformat_minor": 4
}
